{
 "cells": [
  {
   "cell_type": "markdown",
   "id": "0a10f281",
   "metadata": {},
   "source": [
    "1.1. Import Package yang diperlukan"
   ]
  },
  {
   "cell_type": "code",
   "execution_count": 52,
   "id": "7d2bad26",
   "metadata": {},
   "outputs": [],
   "source": [
    "import pandas as pd\n",
    "import numpy as np\n",
    "import seaborn as sns\n",
    "import matplotlib.pyplot as plt\n",
    "\n",
    "from sklearn.model_selection import train_test_split, GridSearchCV, cross_val_score\n",
    "from sklearn.preprocessing import StandardScaler, MinMaxScaler\n",
    "from sklearn.svm import SVC\n",
    "from sklearn.ensemble import RandomForestClassifier\n",
    "from sklearn.metrics import confusion_matrix, accuracy_score, classification_report\n",
    "from pymongo import MongoClient\n",
    "from imblearn.over_sampling import SMOTE\n",
    "import joblib\n",
    "\n",
    "from sklearn.impute import KNNImputer\n",
    "from sklearn.ensemble import RandomForestClassifier, GradientBoostingClassifier, AdaBoostClassifier\n",
    "from sklearn.linear_model import LogisticRegression\n",
    "from sklearn.tree import DecisionTreeClassifier\n",
    "from sklearn.neighbors import KNeighborsClassifier\n",
    "from sklearn.naive_bayes import GaussianNB\n",
    "from sklearn.metrics import confusion_matrix, accuracy_score, classification_report"
   ]
  },
  {
   "cell_type": "markdown",
   "id": "beac65d2",
   "metadata": {},
   "source": [
    "Connect to MongoDB"
   ]
  },
  {
   "cell_type": "code",
   "execution_count": 53,
   "id": "ffdea953",
   "metadata": {},
   "outputs": [
    {
     "data": {
      "text/html": [
       "<div>\n",
       "<style scoped>\n",
       "    .dataframe tbody tr th:only-of-type {\n",
       "        vertical-align: middle;\n",
       "    }\n",
       "\n",
       "    .dataframe tbody tr th {\n",
       "        vertical-align: top;\n",
       "    }\n",
       "\n",
       "    .dataframe thead th {\n",
       "        text-align: right;\n",
       "    }\n",
       "</style>\n",
       "<table border=\"1\" class=\"dataframe\">\n",
       "  <thead>\n",
       "    <tr style=\"text-align: right;\">\n",
       "      <th></th>\n",
       "      <th>Pregnancies</th>\n",
       "      <th>Glucose</th>\n",
       "      <th>BloodPressure</th>\n",
       "      <th>SkinThickness</th>\n",
       "      <th>Insulin</th>\n",
       "      <th>BMI</th>\n",
       "      <th>DiabetesPedigreeFunction</th>\n",
       "      <th>Age</th>\n",
       "      <th>Outcome</th>\n",
       "    </tr>\n",
       "  </thead>\n",
       "  <tbody>\n",
       "    <tr>\n",
       "      <th>0</th>\n",
       "      <td>6</td>\n",
       "      <td>148</td>\n",
       "      <td>72</td>\n",
       "      <td>35</td>\n",
       "      <td>0</td>\n",
       "      <td>33.6</td>\n",
       "      <td>0.627</td>\n",
       "      <td>50</td>\n",
       "      <td>1</td>\n",
       "    </tr>\n",
       "    <tr>\n",
       "      <th>1</th>\n",
       "      <td>1</td>\n",
       "      <td>85</td>\n",
       "      <td>66</td>\n",
       "      <td>29</td>\n",
       "      <td>0</td>\n",
       "      <td>26.6</td>\n",
       "      <td>0.351</td>\n",
       "      <td>31</td>\n",
       "      <td>0</td>\n",
       "    </tr>\n",
       "    <tr>\n",
       "      <th>2</th>\n",
       "      <td>8</td>\n",
       "      <td>183</td>\n",
       "      <td>64</td>\n",
       "      <td>0</td>\n",
       "      <td>0</td>\n",
       "      <td>23.3</td>\n",
       "      <td>0.672</td>\n",
       "      <td>32</td>\n",
       "      <td>1</td>\n",
       "    </tr>\n",
       "    <tr>\n",
       "      <th>3</th>\n",
       "      <td>1</td>\n",
       "      <td>89</td>\n",
       "      <td>66</td>\n",
       "      <td>23</td>\n",
       "      <td>94</td>\n",
       "      <td>28.1</td>\n",
       "      <td>0.167</td>\n",
       "      <td>21</td>\n",
       "      <td>0</td>\n",
       "    </tr>\n",
       "    <tr>\n",
       "      <th>4</th>\n",
       "      <td>0</td>\n",
       "      <td>137</td>\n",
       "      <td>40</td>\n",
       "      <td>35</td>\n",
       "      <td>168</td>\n",
       "      <td>43.1</td>\n",
       "      <td>2.288</td>\n",
       "      <td>33</td>\n",
       "      <td>1</td>\n",
       "    </tr>\n",
       "  </tbody>\n",
       "</table>\n",
       "</div>"
      ],
      "text/plain": [
       "   Pregnancies  Glucose  BloodPressure  SkinThickness  Insulin   BMI  \\\n",
       "0            6      148             72             35        0  33.6   \n",
       "1            1       85             66             29        0  26.6   \n",
       "2            8      183             64              0        0  23.3   \n",
       "3            1       89             66             23       94  28.1   \n",
       "4            0      137             40             35      168  43.1   \n",
       "\n",
       "   DiabetesPedigreeFunction  Age  Outcome  \n",
       "0                     0.627   50        1  \n",
       "1                     0.351   31        0  \n",
       "2                     0.672   32        1  \n",
       "3                     0.167   21        0  \n",
       "4                     2.288   33        1  "
      ]
     },
     "execution_count": 53,
     "metadata": {},
     "output_type": "execute_result"
    }
   ],
   "source": [
    "client = MongoClient(\"mongodb://localhost:27017/\")\n",
    "db = client[\"prediksi_diabetes\"]\n",
    "data = pd.DataFrame(list(db[\"data_diabetes\"].find()))\n",
    "\n",
    "# Drop kolom _id jika ada\n",
    "if '_id' in data.columns:\n",
    "    data.drop('_id', axis=1, inplace=True)\n",
    "\n",
    "data.head()"
   ]
  },
  {
   "cell_type": "markdown",
   "id": "bebc7f04",
   "metadata": {},
   "source": [
    "### Data Cleaning"
   ]
  },
  {
   "cell_type": "markdown",
   "id": "8763486e",
   "metadata": {},
   "source": [
    "Tangani Missing Values"
   ]
  },
  {
   "cell_type": "code",
   "execution_count": 54,
   "id": "5fc8afba",
   "metadata": {},
   "outputs": [
    {
     "name": "stdout",
     "output_type": "stream",
     "text": [
      "Missing values setelah diganti:\n",
      "Pregnancies                   0\n",
      "Glucose                       5\n",
      "BloodPressure                35\n",
      "SkinThickness               227\n",
      "Insulin                     374\n",
      "BMI                          11\n",
      "DiabetesPedigreeFunction      0\n",
      "Age                           0\n",
      "Outcome                       0\n",
      "dtype: int64\n"
     ]
    }
   ],
   "source": [
    "# Kolom yang tidak boleh punya nilai 0\n",
    "invalid_zero_cols = ['Glucose', 'BloodPressure', 'SkinThickness', 'Insulin', 'BMI']\n",
    "\n",
    "# Ganti nilai 0 menjadi NaN\n",
    "data[invalid_zero_cols] = data[invalid_zero_cols].replace(0, np.nan)\n",
    "\n",
    "# Cek jumlah missing values\n",
    "print(\"Missing values setelah diganti:\")\n",
    "print(data.isnull().sum())"
   ]
  },
  {
   "cell_type": "markdown",
   "id": "ccae09cd",
   "metadata": {},
   "source": [
    "4.2 Hapus Kolom dengan Banyak Missing dan Korelasi Rendah"
   ]
  },
  {
   "cell_type": "code",
   "execution_count": 55,
   "id": "14aba179",
   "metadata": {},
   "outputs": [
    {
     "name": "stdout",
     "output_type": "stream",
     "text": [
      "Index(['Pregnancies', 'Glucose', 'BloodPressure', 'BMI', 'Age', 'Outcome'], dtype='object')\n"
     ]
    }
   ],
   "source": [
    "data.drop(['Insulin', 'SkinThickness', 'DiabetesPedigreeFunction'], axis=1, inplace=True)\n",
    "print(data.columns)"
   ]
  },
  {
   "cell_type": "markdown",
   "id": "778dabbf",
   "metadata": {},
   "source": [
    "kolom Insulin dan SkinThickness memiliki banyak nilai 0, yang artinya banyak data yang tidak valid dan juga memerlukan alat laboratorium untuk pengukurannya yang sulit dilakukan di fasilitas kesehatan terbatas.\n",
    "\n",
    "Kolom DiabetesPedigreeFunction juga memiliki korelasi rendah dengan hasil diagnosis dan tidak mudah diukur secara langsung. maka dari itu, ketiga fitur ini tidak kami gunakan di modeling dan kami hapus."
   ]
  },
  {
   "cell_type": "markdown",
   "id": "64f84a26",
   "metadata": {},
   "source": [
    "4.3 Imputasi Missing Values"
   ]
  },
  {
   "cell_type": "markdown",
   "id": "1a41136f",
   "metadata": {},
   "source": [
    "Karena ada fitur yang memiliki nilai 0 tidak valid. Untuk menangani hal ini, kami melakukan imputasi menggunakan KNNImputer.\n"
   ]
  },
  {
   "cell_type": "code",
   "execution_count": null,
   "id": "f1a052a9",
   "metadata": {},
   "outputs": [
    {
     "name": "stdout",
     "output_type": "stream",
     "text": [
      "Cek missing setelah imputasi:\n",
      "Pregnancies      0\n",
      "Glucose          0\n",
      "BloodPressure    0\n",
      "BMI              0\n",
      "Age              0\n",
      "Outcome          0\n",
      "dtype: int64\n",
      "Jumlah data sebelum drop duplikat: 768\n",
      "Jumlah data setelah drop duplikat: 768\n"
     ]
    }
   ],
   "source": [
    "from sklearn.impute import KNNImputer\n",
    "# Pisahkan fitur dan target\n",
    "X_temp = data.drop(columns='Outcome')\n",
    "y_temp = data['Outcome']\n",
    "\n",
    "# imputasi (mencari 5 tetangga terdekat dari setiap data yang hilang, lalu menghitung rata-rata)\n",
    "imputer = KNNImputer(n_neighbors=5)\n",
    "X_imputed = imputer.fit_transform(X_temp)\n",
    "\n",
    "# Buat ulang DataFrame\n",
    "columns = X_temp.columns\n",
    "data_imputed = pd.DataFrame(X_imputed, columns=columns)\n",
    "data_imputed['Outcome'] = y_temp\n",
    "\n",
    "# Simpan hasil imputasi ke variabel akhir\n",
    "data = data_imputed\n",
    "\n",
    "# Cek missing\n",
    "print(\"Cek missing setelah imputasi:\")\n",
    "print(data.isnull().sum())\n",
    "\n",
    "print(\"Jumlah data sebelum drop duplikat:\", data.shape[0])\n",
    "data.drop_duplicates(inplace=True)\n",
    "print(\"Jumlah data setelah drop duplikat:\", data.shape[0])"
   ]
  },
  {
   "cell_type": "markdown",
   "id": "81d31ed4",
   "metadata": {},
   "source": [
    "Imputasi adalah proses mengganti nilai kosong dengan nilai yang diperkirakan berdasarkan data lain. KNNImputer bekerja dengan cara mencari 5 tetangga terdekat (n_neighbors=5) dari setiap data yang hilang, lalu menghitung rata-rata dari nilai mereka untuk mengisi kekosongan tersebut.\n",
    "\n",
    "Hasilnya, seluruh nilai kosong berhasil diisi dengan nilai yang masuk akal, dan tidak ada lagi missing value dalam data."
   ]
  },
  {
   "cell_type": "markdown",
   "id": "e68be57c",
   "metadata": {},
   "source": [
    "4.5 Tangani Outlier "
   ]
  },
  {
   "cell_type": "markdown",
   "id": "0f440e70",
   "metadata": {},
   "source": [
    "Winsorizing adalah teknik untuk mengurangi efek outlier dengan cara mengganti nilai di bawah batas bawah persentil 5% dan di atas batas atas persentil 95% menjadi nilai batas tersebut. \n",
    "Tujuannya agar data lebih stabil dan model tidak terpengaruh outlier."
   ]
  },
  {
   "cell_type": "code",
   "execution_count": 57,
   "id": "f672c6fb",
   "metadata": {},
   "outputs": [
    {
     "data": {
      "image/png": "[encoded data removed]",
      "text/plain": [
       "<Figure size 2500x500 with 5 Axes>"
      ]
     },
     "metadata": {},
     "output_type": "display_data"
    },
    {
     "data": {
      "image/png": "[encoded data removed]",
      "text/plain": [
       "<Figure size 1600x600 with 5 Axes>"
      ]
     },
     "metadata": {},
     "output_type": "display_data"
    }
   ],
   "source": [
    "# Fungsi winsorizing\n",
    "def winsorize_outliers(df, cols, lower_percentile=0.05, upper_percentile=0.95):\n",
    "    df_winsor = df.copy()\n",
    "    for col in cols:\n",
    "        # Cari batas bawah (persentil 5%) dan batas atas (persentil 95%) untuk kolom\n",
    "        lower_bound = df[col].quantile(lower_percentile)\n",
    "        upper_bound = df[col].quantile(upper_percentile)\n",
    "        # Ganti nilai yang lebih kecil dari batas bawah dengan nilai batas bawah\n",
    "        df_winsor[col] = np.where(df_winsor[col] < lower_bound, lower_bound, df_winsor[col])\n",
    "         # Ganti nilai yang lebih besar dari batas atas dengan nilai batas atas\n",
    "        df_winsor[col] = np.where(df_winsor[col] > upper_bound, upper_bound, df_winsor[col])\n",
    "    return df_winsor\n",
    "\n",
    "# Pilih kolom numerik kecuali target (Outcome)\n",
    "numerical_cols = [col for col in data.select_dtypes(include=['float64', 'int64']).columns \n",
    "                  if col not in ['Outcome']]\n",
    "\n",
    "# Plot boxplot sebelum winsorizing\n",
    "plt.figure(figsize=(25, 5))\n",
    "plt.suptitle('Boxplot Sebelum Winsorizing', fontsize=16)\n",
    "for i, col in enumerate(numerical_cols):\n",
    "    plt.subplot(1, len(numerical_cols), i+1)\n",
    "    sns.boxplot(y=data[col])\n",
    "    plt.title(col)\n",
    "plt.tight_layout(rect=[0, 0, 1, 0.95])\n",
    "plt.show()\n",
    "\n",
    "# Lakukan winsorizing\n",
    "data_winsor = winsorize_outliers(data, numerical_cols)\n",
    "\n",
    "# Plot boxplot setelah winsorizing\n",
    "plt.figure(figsize=(16, 6))\n",
    "plt.suptitle('Boxplot Setelah Winsorizing', fontsize=16)\n",
    "for i, col in enumerate(numerical_cols):\n",
    "    plt.subplot(1, len(numerical_cols), i+1)\n",
    "    sns.boxplot(y=data_winsor[col])\n",
    "    plt.title(col)\n",
    "plt.tight_layout(rect=[0, 0, 1, 0.95])\n",
    "plt.show()"
   ]
  },
  {
   "cell_type": "markdown",
   "id": "a9ff707d",
   "metadata": {},
   "source": [
    "# 5. Data Transformation"
   ]
  },
  {
   "cell_type": "markdown",
   "id": "c6562a27",
   "metadata": {},
   "source": [
    "5.1 Persiapan Data"
   ]
  },
  {
   "cell_type": "code",
   "execution_count": 58,
   "id": "33dcb900",
   "metadata": {},
   "outputs": [
    {
     "name": "stdout",
     "output_type": "stream",
     "text": [
      "Distribusi kelas awal:\n",
      "Outcome\n",
      "0    500\n",
      "1    268\n",
      "Name: count, dtype: int64\n"
     ]
    }
   ],
   "source": [
    "X = data.drop(['Outcome'], axis=1)\n",
    "y = data['Outcome']\n",
    "\n",
    "# distribusi target awal\n",
    "print(\"Distribusi kelas awal:\")\n",
    "print(y.value_counts())"
   ]
  },
  {
   "cell_type": "code",
   "execution_count": 59,
   "id": "6856799a",
   "metadata": {},
   "outputs": [
    {
     "name": "stdout",
     "output_type": "stream",
     "text": [
      "\n",
      "Distribusi kelas pada data training:\n",
      "Outcome\n",
      "0    401\n",
      "1    213\n",
      "Name: count, dtype: int64\n"
     ]
    }
   ],
   "source": [
    "# 2. Pemisahan data menjadi train dan test set\n",
    "X_train, X_test, y_train, y_test = train_test_split(X, y, test_size=0.2, random_state=42)\n",
    "\n",
    "# Melihat distribusi kelas pada data training\n",
    "print(\"\\nDistribusi kelas pada data training:\")\n",
    "print(pd.Series(y_train).value_counts())"
   ]
  },
  {
   "cell_type": "code",
   "execution_count": 60,
   "id": "1c167a1b",
   "metadata": {},
   "outputs": [],
   "source": [
    "# 3. Normalisasi data\n",
    "from sklearn.preprocessing import MinMaxScaler\n",
    "scaler = MinMaxScaler()\n",
    "# Fitting scaler HANYA pada data training\n",
    "X_train_scaled = scaler.fit_transform(X_train)\n",
    "# Transform data test \n",
    "X_test_scaled = scaler.transform(X_test)"
   ]
  },
  {
   "cell_type": "markdown",
   "id": "0d166d8e",
   "metadata": {},
   "source": [
    "SMOTE adalah teknik untuk menyeimbangkan jumlah data pada kelas minoritas dengan membuat data baru dengan cara memilih data minoritas, mencari tetangga terdekatnya, lalu membuat data baru di antara keduanya"
   ]
  },
  {
   "cell_type": "code",
   "execution_count": 61,
   "id": "a9952cb6",
   "metadata": {},
   "outputs": [
    {
     "name": "stdout",
     "output_type": "stream",
     "text": [
      "\n",
      "Distribusi kelas setelah SMOTE pada data training):\n",
      "[(0, 401), (1, 401)]\n"
     ]
    }
   ],
   "source": [
    "# 4. SMOTE pada data training SETELAH train-test split\n",
    "from imblearn.over_sampling import SMOTE\n",
    "from collections import Counter\n",
    "smote = SMOTE(random_state=42)\n",
    "X_train_resampled, y_train_resampled = smote.fit_resample(X_train_scaled, y_train)\n",
    "\n",
    "print(\"\\nDistribusi kelas setelah SMOTE pada data training):\")\n",
    "print(sorted(Counter(y_train_resampled).items()))"
   ]
  },
  {
   "cell_type": "code",
   "execution_count": 62,
   "id": "69f60228",
   "metadata": {},
   "outputs": [
    {
     "name": "stderr",
     "output_type": "stream",
     "text": [
      "C:\\Users\\Mega Global\\AppData\\Local\\Temp\\ipykernel_7620\\3468694882.py:3: FutureWarning: \n",
      "\n",
      "Passing `palette` without assigning `hue` is deprecated and will be removed in v0.14.0. Assign the `x` variable to `hue` and set `legend=False` for the same effect.\n",
      "\n",
      "  a = sns.countplot(x='Outcome', data=data, palette='Set2', ax=ax[0])\n",
      "C:\\Users\\Mega Global\\AppData\\Local\\Temp\\ipykernel_7620\\3468694882.py:10: FutureWarning: \n",
      "\n",
      "Passing `palette` without assigning `hue` is deprecated and will be removed in v0.14.0. Assign the `x` variable to `hue` and set `legend=False` for the same effect.\n",
      "\n",
      "  a = sns.countplot(x=y_series, palette='Set2', ax=ax[1])\n"
     ]
    },
    {
     "data": {
      "image/png": "[encoded data removed]",
      "text/plain": [
       "<Figure size 1400x400 with 2 Axes>"
      ]
     },
     "metadata": {},
     "output_type": "display_data"
    }
   ],
   "source": [
    "fig, ax = plt.subplots(1, 2, figsize=(14, 4))\n",
    "# Data asli\n",
    "a = sns.countplot(x='Outcome', data=data, palette='Set2', ax=ax[0])\n",
    "for j in a.containers:\n",
    "    a.bar_label(j, label_type='edge')\n",
    "ax[0].set_title('Jumlah Data Asli')\n",
    "\n",
    "# Data training setelah SMOTE\n",
    "y_series = pd.Series(y_train_resampled, name='Outcome')\n",
    "a = sns.countplot(x=y_series, palette='Set2', ax=ax[1])\n",
    "for j in a.containers:\n",
    "    a.bar_label(j, label_type='edge')\n",
    "ax[1].set_title('Jumlah Data Training Setelah SMOTE')\n",
    "plt.show()"
   ]
  },
  {
   "cell_type": "code",
   "execution_count": 63,
   "id": "7139a3f7",
   "metadata": {},
   "outputs": [
    {
     "name": "stdout",
     "output_type": "stream",
     "text": [
      "\n",
      "Total data asli X: 768\n",
      "Total data asli y: 768\n",
      "=====================================\n",
      "Total data X_train awal: 614\n",
      "Total data y_train awal: 614\n",
      "Total data X_train setelah SMOTE: 802\n",
      "Total data y_train setelah SMOTE: 802\n",
      "=====================================\n",
      "Total data X_test: 154\n",
      "Total data y_test: 154\n"
     ]
    }
   ],
   "source": [
    "# Informasi ukuran data\n",
    "print('\\nTotal data asli X:', len(X))\n",
    "print('Total data asli y:', len(y))\n",
    "print('=====================================')\n",
    "print('Total data X_train awal:', len(X_train))\n",
    "print('Total data y_train awal:', len(y_train))\n",
    "print('Total data X_train setelah SMOTE:', len(X_train_resampled))\n",
    "print('Total data y_train setelah SMOTE:', len(y_train_resampled))\n",
    "print('=====================================')\n",
    "print('Total data X_test:', len(X_test))\n",
    "print('Total data y_test:', len(y_test))"
   ]
  },
  {
   "cell_type": "code",
   "execution_count": 64,
   "id": "fb1c40e3",
   "metadata": {},
   "outputs": [],
   "source": [
    "# Simpan ke file CSV\n",
    "data.to_csv(\"data_diabetes_clean.csv\", index=False)\n"
   ]
  },
  {
   "cell_type": "markdown",
   "id": "35790978",
   "metadata": {},
   "source": [
    "### Modeling"
   ]
  },
  {
   "cell_type": "code",
   "execution_count": 65,
   "id": "ae53317d",
   "metadata": {},
   "outputs": [
    {
     "name": "stdout",
     "output_type": "stream",
     "text": [
      "\n",
      "Hasil Evaluasi Model:\n",
      "Logistic Regression: Accuracy = 0.7078\n",
      "SVM: Accuracy = 0.7078\n",
      "Random Forest: Accuracy = 0.7468\n",
      "Gaussian Naive Bayes: Accuracy = 0.7403\n",
      "\n",
      "Model Terbaik Berdasarkan Akurasi: Random Forest (Accuracy = 0.7468)\n"
     ]
    }
   ],
   "source": [
    "models = {\n",
    "    \"Logistic Regression\": LogisticRegression(random_state=42, solver='liblinear'),\n",
    "    \"SVM\": SVC(kernel='linear', random_state=42),\n",
    "    \"Random Forest\": RandomForestClassifier(random_state=42),\n",
    "    \"Gaussian Naive Bayes\": GaussianNB()\n",
    "}\n",
    "\n",
    "results = {}\n",
    "# Loop buat latih dan uji semua model\n",
    "for name, model in models.items():\n",
    "   # Latih model pakai data training yang sudah diseimbangkan\n",
    "    model.fit(X_train_resampled, y_train_resampled)\n",
    "    # Evaluasi menggunakan data testing\n",
    "    y_pred = model.predict(X_test_scaled)\n",
    "    accuracy = accuracy_score(y_test, y_pred)\n",
    "    results[name] = accuracy\n",
    "\n",
    "print(\"\\nHasil Evaluasi Model:\")\n",
    "for name, accuracy in results.items():\n",
    "    print(f\"{name}: Accuracy = {accuracy:.4f}\")\n",
    "\n",
    "best_model_name = max(results, key=results.get)\n",
    "print(f\"\\nModel Terbaik Berdasarkan Akurasi: {best_model_name} (Accuracy = {results[best_model_name]:.4f})\")"
   ]
  },
  {
   "cell_type": "code",
   "execution_count": 71,
   "id": "c84c1f52",
   "metadata": {},
   "outputs": [
    {
     "data": {
      "image/png": "[encoded data removed]",
      "text/plain": [
       "<Figure size 2500x500 with 8 Axes>"
      ]
     },
     "metadata": {},
     "output_type": "display_data"
    }
   ],
   "source": [
    "from sklearn.metrics import confusion_matrix\n",
    "\n",
    "# Pilih model-model yang udah dilatih sebelumnya untuk dibandingkan\n",
    "models_to_compare = {\n",
    "    \"Logistic Regression\": models[\"Logistic Regression\"],\n",
    "    \"SVM\": models[\"SVM\"],  # Tambahkan SVM\n",
    "    \"Random Forest\": models[\"Random Forest\"],\n",
    "    \"Gaussian Naive Bayes\": models[\"Gaussian Naive Bayes\"]\n",
    "}\n",
    "\n",
    "# Buat subplots untuk setiap confusion matrix\n",
    "fig, axes = plt.subplots(1, len(models_to_compare), figsize=(25, 5))  # Sesuaikan ukuran figure\n",
    "\n",
    "# Loop tiap model buat bikin confusion matrix\n",
    "for i, (name, model) in enumerate(models_to_compare.items()):\n",
    "    # Prediksi hasil dari data test\n",
    "    y_pred = model.predict(X_test_scaled)\n",
    "\n",
    "    # hitung confusion matrix\n",
    "    cm = confusion_matrix(y_test, y_pred)\n",
    "\n",
    "    # Visualisasikan confusion matrix\n",
    "    sns.heatmap(cm, annot=True, fmt='d', cmap='Blues',\n",
    "                xticklabels=['Tidak Diabetes', 'Diabetes'],\n",
    "                yticklabels=['Tidak Diabetes', 'Diabetes'],\n",
    "                ax=axes[i])\n",
    "    axes[i].set_xlabel('Predicted Label')\n",
    "    axes[i].set_ylabel('True Label')\n",
    "    axes[i].set_title(f'Confusion Matrix - {name}')\n",
    "\n",
    "plt.tight_layout()\n",
    "plt.show()"
   ]
  },
  {
   "cell_type": "markdown",
   "id": "591d5e52",
   "metadata": {},
   "source": [
    "evaluasi model menggunakan teknik Cross Validation, yaitu proses untuk menguji keakuratan model secara menyeluruh."
   ]
  },
  {
   "cell_type": "code",
   "execution_count": null,
   "id": "5f10299a",
   "metadata": {},
   "outputs": [
    {
     "name": "stdout",
     "output_type": "stream",
     "text": [
      "\n",
      "Logistic Regression: CV Accuracy Scores = [0.73913043 0.76397516 0.73125    0.73125    0.775     ]\n",
      "Logistic Regression: Mean CV Accuracy = 0.7481\n",
      "\n",
      "SVM: CV Accuracy Scores = [0.74534161 0.76397516 0.7125     0.73125    0.775     ]\n",
      "SVM: Mean CV Accuracy = 0.7456\n",
      "\n",
      "Random Forest: CV Accuracy Scores = [0.75776398 0.7826087  0.8        0.85625    0.8875    ]\n",
      "Random Forest: Mean CV Accuracy = 0.8168\n",
      "\n",
      "Gaussian Naive Bayes: CV Accuracy Scores = [0.72049689 0.74534161 0.7375     0.73125    0.7625    ]\n",
      "Gaussian Naive Bayes: Mean CV Accuracy = 0.7394\n"
     ]
    }
   ],
   "source": [
    "from sklearn.model_selection import cross_val_score\n",
    "\n",
    "for name, model in models.items():\n",
    "    cv_scores = cross_val_score(model, X_train_resampled, y_train_resampled, cv=5, scoring='accuracy') \n",
    "    print(f\"\\n{name}: CV Accuracy Scores = {cv_scores}\")\n",
    "    print(f\"{name}: Mean CV Accuracy = {cv_scores.mean():.4f}\")"
   ]
  },
  {
   "cell_type": "markdown",
   "id": "9e999344",
   "metadata": {},
   "source": [
    "data training yang sudah diseimbangkan di bagi menjadi 5 bagian. Lalu, model dilatih dan diuji sebanyak 5 kali, dengan data yang berbeda-beda. Tujuannya untuk melihat seberapa stabil model kalau diuji dengan data yang bervariasi."
   ]
  },
  {
   "cell_type": "code",
   "execution_count": null,
   "id": "7777a12a",
   "metadata": {},
   "outputs": [
    {
     "data": {
      "text/html": [
       "<style>#sk-container-id-2 {\n",
       "  /* Definition of color scheme common for light and dark mode */\n",
       "  --sklearn-color-text: #000;\n",
       "  --sklearn-color-text-muted: #666;\n",
       "  --sklearn-color-line: gray;\n",
       "  /* Definition of color scheme for unfitted estimators */\n",
       "  --sklearn-color-unfitted-level-0: #fff5e6;\n",
       "  --sklearn-color-unfitted-level-1: #f6e4d2;\n",
       "  --sklearn-color-unfitted-level-2: #ffe0b3;\n",
       "  --sklearn-color-unfitted-level-3: chocolate;\n",
       "  /* Definition of color scheme for fitted estimators */\n",
       "  --sklearn-color-fitted-level-0: #f0f8ff;\n",
       "  --sklearn-color-fitted-level-1: #d4ebff;\n",
       "  --sklearn-color-fitted-level-2: #b3dbfd;\n",
       "  --sklearn-color-fitted-level-3: cornflowerblue;\n",
       "\n",
       "  /* Specific color for light theme */\n",
       "  --sklearn-color-text-on-default-background: var(--sg-text-color, var(--theme-code-foreground, var(--jp-content-font-color1, black)));\n",
       "  --sklearn-color-background: var(--sg-background-color, var(--theme-background, var(--jp-layout-color0, white)));\n",
       "  --sklearn-color-border-box: var(--sg-text-color, var(--theme-code-foreground, var(--jp-content-font-color1, black)));\n",
       "  --sklearn-color-icon: #696969;\n",
       "\n",
       "  @media (prefers-color-scheme: dark) {\n",
       "    /* Redefinition of color scheme for dark theme */\n",
       "    --sklearn-color-text-on-default-background: var(--sg-text-color, var(--theme-code-foreground, var(--jp-content-font-color1, white)));\n",
       "    --sklearn-color-background: var(--sg-background-color, var(--theme-background, var(--jp-layout-color0, #111)));\n",
       "    --sklearn-color-border-box: var(--sg-text-color, var(--theme-code-foreground, var(--jp-content-font-color1, white)));\n",
       "    --sklearn-color-icon: #878787;\n",
       "  }\n",
       "}\n",
       "\n",
       "#sk-container-id-2 {\n",
       "  color: var(--sklearn-color-text);\n",
       "}\n",
       "\n",
       "#sk-container-id-2 pre {\n",
       "  padding: 0;\n",
       "}\n",
       "\n",
       "#sk-container-id-2 input.sk-hidden--visually {\n",
       "  border: 0;\n",
       "  clip: rect(1px 1px 1px 1px);\n",
       "  clip: rect(1px, 1px, 1px, 1px);\n",
       "  height: 1px;\n",
       "  margin: -1px;\n",
       "  overflow: hidden;\n",
       "  padding: 0;\n",
       "  position: absolute;\n",
       "  width: 1px;\n",
       "}\n",
       "\n",
       "#sk-container-id-2 div.sk-dashed-wrapped {\n",
       "  border: 1px dashed var(--sklearn-color-line);\n",
       "  margin: 0 0.4em 0.5em 0.4em;\n",
       "  box-sizing: border-box;\n",
       "  padding-bottom: 0.4em;\n",
       "  background-color: var(--sklearn-color-background);\n",
       "}\n",
       "\n",
       "#sk-container-id-2 div.sk-container {\n",
       "  /* jupyter's `normalize.less` sets `[hidden] { display: none; }`\n",
       "     but bootstrap.min.css set `[hidden] { display: none !important; }`\n",
       "     so we also need the `!important` here to be able to override the\n",
       "     default hidden behavior on the sphinx rendered scikit-learn.org.\n",
       "     See: https://github.com/scikit-learn/scikit-learn/issues/21755 */\n",
       "  display: inline-block !important;\n",
       "  position: relative;\n",
       "}\n",
       "\n",
       "#sk-container-id-2 div.sk-text-repr-fallback {\n",
       "  display: none;\n",
       "}\n",
       "\n",
       "div.sk-parallel-item,\n",
       "div.sk-serial,\n",
       "div.sk-item {\n",
       "  /* draw centered vertical line to link estimators */\n",
       "  background-image: linear-gradient(var(--sklearn-color-text-on-default-background), var(--sklearn-color-text-on-default-background));\n",
       "  background-size: 2px 100%;\n",
       "  background-repeat: no-repeat;\n",
       "  background-position: center center;\n",
       "}\n",
       "\n",
       "/* Parallel-specific style estimator block */\n",
       "\n",
       "#sk-container-id-2 div.sk-parallel-item::after {\n",
       "  content: \"\";\n",
       "  width: 100%;\n",
       "  border-bottom: 2px solid var(--sklearn-color-text-on-default-background);\n",
       "  flex-grow: 1;\n",
       "}\n",
       "\n",
       "#sk-container-id-2 div.sk-parallel {\n",
       "  display: flex;\n",
       "  align-items: stretch;\n",
       "  justify-content: center;\n",
       "  background-color: var(--sklearn-color-background);\n",
       "  position: relative;\n",
       "}\n",
       "\n",
       "#sk-container-id-2 div.sk-parallel-item {\n",
       "  display: flex;\n",
       "  flex-direction: column;\n",
       "}\n",
       "\n",
       "#sk-container-id-2 div.sk-parallel-item:first-child::after {\n",
       "  align-self: flex-end;\n",
       "  width: 50%;\n",
       "}\n",
       "\n",
       "#sk-container-id-2 div.sk-parallel-item:last-child::after {\n",
       "  align-self: flex-start;\n",
       "  width: 50%;\n",
       "}\n",
       "\n",
       "#sk-container-id-2 div.sk-parallel-item:only-child::after {\n",
       "  width: 0;\n",
       "}\n",
       "\n",
       "/* Serial-specific style estimator block */\n",
       "\n",
       "#sk-container-id-2 div.sk-serial {\n",
       "  display: flex;\n",
       "  flex-direction: column;\n",
       "  align-items: center;\n",
       "  background-color: var(--sklearn-color-background);\n",
       "  padding-right: 1em;\n",
       "  padding-left: 1em;\n",
       "}\n",
       "\n",
       "\n",
       "/* Toggleable style: style used for estimator/Pipeline/ColumnTransformer box that is\n",
       "clickable and can be expanded/collapsed.\n",
       "- Pipeline and ColumnTransformer use this feature and define the default style\n",
       "- Estimators will overwrite some part of the style using the `sk-estimator` class\n",
       "*/\n",
       "\n",
       "/* Pipeline and ColumnTransformer style (default) */\n",
       "\n",
       "#sk-container-id-2 div.sk-toggleable {\n",
       "  /* Default theme specific background. It is overwritten whether we have a\n",
       "  specific estimator or a Pipeline/ColumnTransformer */\n",
       "  background-color: var(--sklearn-color-background);\n",
       "}\n",
       "\n",
       "/* Toggleable label */\n",
       "#sk-container-id-2 label.sk-toggleable__label {\n",
       "  cursor: pointer;\n",
       "  display: flex;\n",
       "  width: 100%;\n",
       "  margin-bottom: 0;\n",
       "  padding: 0.5em;\n",
       "  box-sizing: border-box;\n",
       "  text-align: center;\n",
       "  align-items: start;\n",
       "  justify-content: space-between;\n",
       "  gap: 0.5em;\n",
       "}\n",
       "\n",
       "#sk-container-id-2 label.sk-toggleable__label .caption {\n",
       "  font-size: 0.6rem;\n",
       "  font-weight: lighter;\n",
       "  color: var(--sklearn-color-text-muted);\n",
       "}\n",
       "\n",
       "#sk-container-id-2 label.sk-toggleable__label-arrow:before {\n",
       "  /* Arrow on the left of the label */\n",
       "  content: \"▸\";\n",
       "  float: left;\n",
       "  margin-right: 0.25em;\n",
       "  color: var(--sklearn-color-icon);\n",
       "}\n",
       "\n",
       "#sk-container-id-2 label.sk-toggleable__label-arrow:hover:before {\n",
       "  color: var(--sklearn-color-text);\n",
       "}\n",
       "\n",
       "/* Toggleable content - dropdown */\n",
       "\n",
       "#sk-container-id-2 div.sk-toggleable__content {\n",
       "  max-height: 0;\n",
       "  max-width: 0;\n",
       "  overflow: hidden;\n",
       "  text-align: left;\n",
       "  /* unfitted */\n",
       "  background-color: var(--sklearn-color-unfitted-level-0);\n",
       "}\n",
       "\n",
       "#sk-container-id-2 div.sk-toggleable__content.fitted {\n",
       "  /* fitted */\n",
       "  background-color: var(--sklearn-color-fitted-level-0);\n",
       "}\n",
       "\n",
       "#sk-container-id-2 div.sk-toggleable__content pre {\n",
       "  margin: 0.2em;\n",
       "  border-radius: 0.25em;\n",
       "  color: var(--sklearn-color-text);\n",
       "  /* unfitted */\n",
       "  background-color: var(--sklearn-color-unfitted-level-0);\n",
       "}\n",
       "\n",
       "#sk-container-id-2 div.sk-toggleable__content.fitted pre {\n",
       "  /* unfitted */\n",
       "  background-color: var(--sklearn-color-fitted-level-0);\n",
       "}\n",
       "\n",
       "#sk-container-id-2 input.sk-toggleable__control:checked~div.sk-toggleable__content {\n",
       "  /* Expand drop-down */\n",
       "  max-height: 200px;\n",
       "  max-width: 100%;\n",
       "  overflow: auto;\n",
       "}\n",
       "\n",
       "#sk-container-id-2 input.sk-toggleable__control:checked~label.sk-toggleable__label-arrow:before {\n",
       "  content: \"▾\";\n",
       "}\n",
       "\n",
       "/* Pipeline/ColumnTransformer-specific style */\n",
       "\n",
       "#sk-container-id-2 div.sk-label input.sk-toggleable__control:checked~label.sk-toggleable__label {\n",
       "  color: var(--sklearn-color-text);\n",
       "  background-color: var(--sklearn-color-unfitted-level-2);\n",
       "}\n",
       "\n",
       "#sk-container-id-2 div.sk-label.fitted input.sk-toggleable__control:checked~label.sk-toggleable__label {\n",
       "  background-color: var(--sklearn-color-fitted-level-2);\n",
       "}\n",
       "\n",
       "/* Estimator-specific style */\n",
       "\n",
       "/* Colorize estimator box */\n",
       "#sk-container-id-2 div.sk-estimator input.sk-toggleable__control:checked~label.sk-toggleable__label {\n",
       "  /* unfitted */\n",
       "  background-color: var(--sklearn-color-unfitted-level-2);\n",
       "}\n",
       "\n",
       "#sk-container-id-2 div.sk-estimator.fitted input.sk-toggleable__control:checked~label.sk-toggleable__label {\n",
       "  /* fitted */\n",
       "  background-color: var(--sklearn-color-fitted-level-2);\n",
       "}\n",
       "\n",
       "#sk-container-id-2 div.sk-label label.sk-toggleable__label,\n",
       "#sk-container-id-2 div.sk-label label {\n",
       "  /* The background is the default theme color */\n",
       "  color: var(--sklearn-color-text-on-default-background);\n",
       "}\n",
       "\n",
       "/* On hover, darken the color of the background */\n",
       "#sk-container-id-2 div.sk-label:hover label.sk-toggleable__label {\n",
       "  color: var(--sklearn-color-text);\n",
       "  background-color: var(--sklearn-color-unfitted-level-2);\n",
       "}\n",
       "\n",
       "/* Label box, darken color on hover, fitted */\n",
       "#sk-container-id-2 div.sk-label.fitted:hover label.sk-toggleable__label.fitted {\n",
       "  color: var(--sklearn-color-text);\n",
       "  background-color: var(--sklearn-color-fitted-level-2);\n",
       "}\n",
       "\n",
       "/* Estimator label */\n",
       "\n",
       "#sk-container-id-2 div.sk-label label {\n",
       "  font-family: monospace;\n",
       "  font-weight: bold;\n",
       "  display: inline-block;\n",
       "  line-height: 1.2em;\n",
       "}\n",
       "\n",
       "#sk-container-id-2 div.sk-label-container {\n",
       "  text-align: center;\n",
       "}\n",
       "\n",
       "/* Estimator-specific */\n",
       "#sk-container-id-2 div.sk-estimator {\n",
       "  font-family: monospace;\n",
       "  border: 1px dotted var(--sklearn-color-border-box);\n",
       "  border-radius: 0.25em;\n",
       "  box-sizing: border-box;\n",
       "  margin-bottom: 0.5em;\n",
       "  /* unfitted */\n",
       "  background-color: var(--sklearn-color-unfitted-level-0);\n",
       "}\n",
       "\n",
       "#sk-container-id-2 div.sk-estimator.fitted {\n",
       "  /* fitted */\n",
       "  background-color: var(--sklearn-color-fitted-level-0);\n",
       "}\n",
       "\n",
       "/* on hover */\n",
       "#sk-container-id-2 div.sk-estimator:hover {\n",
       "  /* unfitted */\n",
       "  background-color: var(--sklearn-color-unfitted-level-2);\n",
       "}\n",
       "\n",
       "#sk-container-id-2 div.sk-estimator.fitted:hover {\n",
       "  /* fitted */\n",
       "  background-color: var(--sklearn-color-fitted-level-2);\n",
       "}\n",
       "\n",
       "/* Specification for estimator info (e.g. \"i\" and \"?\") */\n",
       "\n",
       "/* Common style for \"i\" and \"?\" */\n",
       "\n",
       ".sk-estimator-doc-link,\n",
       "a:link.sk-estimator-doc-link,\n",
       "a:visited.sk-estimator-doc-link {\n",
       "  float: right;\n",
       "  font-size: smaller;\n",
       "  line-height: 1em;\n",
       "  font-family: monospace;\n",
       "  background-color: var(--sklearn-color-background);\n",
       "  border-radius: 1em;\n",
       "  height: 1em;\n",
       "  width: 1em;\n",
       "  text-decoration: none !important;\n",
       "  margin-left: 0.5em;\n",
       "  text-align: center;\n",
       "  /* unfitted */\n",
       "  border: var(--sklearn-color-unfitted-level-1) 1pt solid;\n",
       "  color: var(--sklearn-color-unfitted-level-1);\n",
       "}\n",
       "\n",
       ".sk-estimator-doc-link.fitted,\n",
       "a:link.sk-estimator-doc-link.fitted,\n",
       "a:visited.sk-estimator-doc-link.fitted {\n",
       "  /* fitted */\n",
       "  border: var(--sklearn-color-fitted-level-1) 1pt solid;\n",
       "  color: var(--sklearn-color-fitted-level-1);\n",
       "}\n",
       "\n",
       "/* On hover */\n",
       "div.sk-estimator:hover .sk-estimator-doc-link:hover,\n",
       ".sk-estimator-doc-link:hover,\n",
       "div.sk-label-container:hover .sk-estimator-doc-link:hover,\n",
       ".sk-estimator-doc-link:hover {\n",
       "  /* unfitted */\n",
       "  background-color: var(--sklearn-color-unfitted-level-3);\n",
       "  color: var(--sklearn-color-background);\n",
       "  text-decoration: none;\n",
       "}\n",
       "\n",
       "div.sk-estimator.fitted:hover .sk-estimator-doc-link.fitted:hover,\n",
       ".sk-estimator-doc-link.fitted:hover,\n",
       "div.sk-label-container:hover .sk-estimator-doc-link.fitted:hover,\n",
       ".sk-estimator-doc-link.fitted:hover {\n",
       "  /* fitted */\n",
       "  background-color: var(--sklearn-color-fitted-level-3);\n",
       "  color: var(--sklearn-color-background);\n",
       "  text-decoration: none;\n",
       "}\n",
       "\n",
       "/* Span, style for the box shown on hovering the info icon */\n",
       ".sk-estimator-doc-link span {\n",
       "  display: none;\n",
       "  z-index: 9999;\n",
       "  position: relative;\n",
       "  font-weight: normal;\n",
       "  right: .2ex;\n",
       "  padding: .5ex;\n",
       "  margin: .5ex;\n",
       "  width: min-content;\n",
       "  min-width: 20ex;\n",
       "  max-width: 50ex;\n",
       "  color: var(--sklearn-color-text);\n",
       "  box-shadow: 2pt 2pt 4pt #999;\n",
       "  /* unfitted */\n",
       "  background: var(--sklearn-color-unfitted-level-0);\n",
       "  border: .5pt solid var(--sklearn-color-unfitted-level-3);\n",
       "}\n",
       "\n",
       ".sk-estimator-doc-link.fitted span {\n",
       "  /* fitted */\n",
       "  background: var(--sklearn-color-fitted-level-0);\n",
       "  border: var(--sklearn-color-fitted-level-3);\n",
       "}\n",
       "\n",
       ".sk-estimator-doc-link:hover span {\n",
       "  display: block;\n",
       "}\n",
       "\n",
       "/* \"?\"-specific style due to the `<a>` HTML tag */\n",
       "\n",
       "#sk-container-id-2 a.estimator_doc_link {\n",
       "  float: right;\n",
       "  font-size: 1rem;\n",
       "  line-height: 1em;\n",
       "  font-family: monospace;\n",
       "  background-color: var(--sklearn-color-background);\n",
       "  border-radius: 1rem;\n",
       "  height: 1rem;\n",
       "  width: 1rem;\n",
       "  text-decoration: none;\n",
       "  /* unfitted */\n",
       "  color: var(--sklearn-color-unfitted-level-1);\n",
       "  border: var(--sklearn-color-unfitted-level-1) 1pt solid;\n",
       "}\n",
       "\n",
       "#sk-container-id-2 a.estimator_doc_link.fitted {\n",
       "  /* fitted */\n",
       "  border: var(--sklearn-color-fitted-level-1) 1pt solid;\n",
       "  color: var(--sklearn-color-fitted-level-1);\n",
       "}\n",
       "\n",
       "/* On hover */\n",
       "#sk-container-id-2 a.estimator_doc_link:hover {\n",
       "  /* unfitted */\n",
       "  background-color: var(--sklearn-color-unfitted-level-3);\n",
       "  color: var(--sklearn-color-background);\n",
       "  text-decoration: none;\n",
       "}\n",
       "\n",
       "#sk-container-id-2 a.estimator_doc_link.fitted:hover {\n",
       "  /* fitted */\n",
       "  background-color: var(--sklearn-color-fitted-level-3);\n",
       "}\n",
       "</style><div id=\"sk-container-id-2\" class=\"sk-top-container\"><div class=\"sk-text-repr-fallback\"><pre>RandomForestClassifier(random_state=42)</pre><b>In a Jupyter environment, please rerun this cell to show the HTML representation or trust the notebook. <br />On GitHub, the HTML representation is unable to render, please try loading this page with nbviewer.org.</b></div><div class=\"sk-container\" hidden><div class=\"sk-item\"><div class=\"sk-estimator fitted sk-toggleable\"><input class=\"sk-toggleable__control sk-hidden--visually\" id=\"sk-estimator-id-2\" type=\"checkbox\" checked><label for=\"sk-estimator-id-2\" class=\"sk-toggleable__label fitted sk-toggleable__label-arrow\"><div><div>RandomForestClassifier</div></div><div><a class=\"sk-estimator-doc-link fitted\" rel=\"noreferrer\" target=\"_blank\" href=\"https://scikit-learn.org/1.6/modules/generated/sklearn.ensemble.RandomForestClassifier.html\">?<span>Documentation for RandomForestClassifier</span></a><span class=\"sk-estimator-doc-link fitted\">i<span>Fitted</span></span></div></label><div class=\"sk-toggleable__content fitted\"><pre>RandomForestClassifier(random_state=42)</pre></div> </div></div></div></div>"
      ],
      "text/plain": [
       "RandomForestClassifier(random_state=42)"
      ]
     },
     "execution_count": 44,
     "metadata": {},
     "output_type": "execute_result"
    }
   ],
   "source": [
    "best_rf = models[\"Random Forest\"]  # Ambil model Random Forest\n",
    "best_rf.fit(X_train_resampled, y_train_resampled)  # Latih pada seluruh data training"
   ]
  },
  {
   "cell_type": "code",
   "execution_count": null,
   "id": "32584095",
   "metadata": {},
   "outputs": [
    {
     "name": "stdout",
     "output_type": "stream",
     "text": [
      "\n",
      "Evaluasi Akhir pada Data Testing:\n",
      "Accuracy: 0.7468\n",
      "              precision    recall  f1-score   support\n",
      "\n",
      "           0       0.83      0.76      0.79        99\n",
      "           1       0.62      0.73      0.67        55\n",
      "\n",
      "    accuracy                           0.75       154\n",
      "   macro avg       0.73      0.74      0.73       154\n",
      "weighted avg       0.76      0.75      0.75       154\n",
      "\n",
      "[[75 24]\n",
      " [15 40]]\n"
     ]
    }
   ],
   "source": [
    "from sklearn.metrics import accuracy_score, classification_report, confusion_matrix\n",
    "\n",
    "y_pred = best_rf.predict(X_test_scaled)\n",
    "print(\"\\nEvaluasi Akhir pada Data Testing:\")\n",
    "print(f\"Accuracy: {accuracy_score(y_test, y_pred):.4f}\")\n",
    "print(classification_report(y_test, y_pred))\n",
    "print(confusion_matrix(y_test, y_pred))"
   ]
  },
  {
   "cell_type": "code",
   "execution_count": null,
   "id": "d403396f",
   "metadata": {},
   "outputs": [
    {
     "data": {
      "text/plain": [
       "['best_random_forest_model.pkl']"
      ]
     },
     "execution_count": 46,
     "metadata": {},
     "output_type": "execute_result"
    }
   ],
   "source": [
    "# Simpan model dan scaler\n",
    "joblib.dump(scaler, 'scaler.pkl')\n",
    "joblib.dump(best_rf, 'best_random_forest_model.pkl')"
   ]
  },
  {
   "cell_type": "code",
   "execution_count": null,
   "id": "346ea34b",
   "metadata": {},
   "outputs": [
    {
     "name": "stdout",
     "output_type": "stream",
     "text": [
      "Prediksi: 1\n",
      "⚠️ Pasien terkena diabetes\n"
     ]
    }
   ],
   "source": [
    "# Load model dan scaler\n",
    "classifier = joblib.load('best_random_forest_model.pkl')\n",
    "scaler = joblib.load('scaler.pkl')\n",
    "\n",
    "# Data input pasien\n",
    "input_data = (6, 148, 72, 33.6, 50)\n",
    "feature_names = ['Pregnancies', 'Glucose', 'BloodPressure', 'BMI', 'Age']\n",
    "\n",
    "# Buat DataFrame agar sesuai dengan fitur saat scaler dilatih\n",
    "input_df = pd.DataFrame([input_data], columns=feature_names)\n",
    "\n",
    "# Scaling dan prediksi\n",
    "input_scaled = scaler.transform(input_df)\n",
    "prediction = classifier.predict(input_scaled)\n",
    "\n",
    "print(f\"Prediksi: {prediction[0]}\")\n",
    "\n",
    "if prediction[0] == 0:\n",
    "    print('✅ Pasien tidak terkena diabetes')\n",
    "else:\n",
    "    print('⚠️ Pasien terkena diabetes')"
   ]
  },
  {
   "cell_type": "code",
   "execution_count": null,
   "id": "0d930e17",
   "metadata": {},
   "outputs": [
    {
     "name": "stdout",
     "output_type": "stream",
     "text": [
      "Prediksi: 0\n",
      "✅ Pasien tidak terkena diabetes\n"
     ]
    }
   ],
   "source": [
    "# Data input pasien\n",
    "input_data = (1, 85, 66, 26.6, 30)  \n",
    "feature_names = ['Pregnancies', 'Glucose', 'BloodPressure', 'BMI', 'Age']\n",
    "\n",
    "# Buat DataFrame agar sesuai dengan fitur saat scaler dilatih\n",
    "input_df = pd.DataFrame([input_data], columns=feature_names)\n",
    "\n",
    "# Scaling dan prediksi\n",
    "input_scaled = scaler.transform(input_df)\n",
    "prediction = classifier.predict(input_scaled)\n",
    "\n",
    "# Output prediksi\n",
    "print(f\"Prediksi: {prediction[0]}\")\n",
    "\n",
    "if prediction[0] == 0:\n",
    "    print('✅ Pasien tidak terkena diabetes')\n",
    "else:\n",
    "    print('⚠️ Pasien terkena diabetes')"
   ]
  }
 ],
 "metadata": {
  "kernelspec": {
   "display_name": "Python 3",
   "language": "python",
   "name": "python3"
  },
  "language_info": {
   "codemirror_mode": {
    "name": "ipython",
    "version": 3
   },
   "file_extension": ".py",
   "mimetype": "text/x-python",
   "name": "python",
   "nbconvert_exporter": "python",
   "pygments_lexer": "ipython3",
   "version": "3.13.1"
  }
 },
 "nbformat": 4,
 "nbformat_minor": 5
}
