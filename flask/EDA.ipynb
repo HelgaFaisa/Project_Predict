{
 "cells": [
  {
   "cell_type": "markdown",
   "id": "b2d439cb",
   "metadata": {},
   "source": [
    "## Exploratory Data Analysis (EDA)"
   ]
  },
  {
   "cell_type": "markdown",
   "id": "8166d9d2",
   "metadata": {},
   "source": [
    "### 1. Introduction"
   ]
  },
  {
   "cell_type": "markdown",
   "id": "48de7670",
   "metadata": {},
   "source": [
    "*Tujuan:* \n",
    "- Memahami bagaimana visualisasi data membantu mengeksplorasi data.\n",
    "- Menemukan pola tersembunyi sebelum training model."
   ]
  },
  {
   "cell_type": "markdown",
   "id": "4df787f0",
   "metadata": {},
   "source": [
    "1.1. Import Package yang diperlukan"
   ]
  },
  {
   "cell_type": "code",
   "execution_count": 3,
   "id": "fc202d8e",
   "metadata": {},
   "outputs": [],
   "source": [
    "import pandas as pd\n",
    "import numpy as np\n",
    "import seaborn as sns\n",
    "import matplotlib.pyplot as plt\n",
    "\n",
    "from pymongo import MongoClient"
   ]
  },
  {
   "cell_type": "markdown",
   "id": "0b80627c",
   "metadata": {},
   "source": [
    "Connect to MongoDB"
   ]
  },
  {
   "cell_type": "code",
   "execution_count": 4,
   "id": "1344c5f6",
   "metadata": {},
   "outputs": [
    {
     "data": {
      "text/html": [
       "<div>\n",
       "<style scoped>\n",
       "    .dataframe tbody tr th:only-of-type {\n",
       "        vertical-align: middle;\n",
       "    }\n",
       "\n",
       "    .dataframe tbody tr th {\n",
       "        vertical-align: top;\n",
       "    }\n",
       "\n",
       "    .dataframe thead th {\n",
       "        text-align: right;\n",
       "    }\n",
       "</style>\n",
       "<table border=\"1\" class=\"dataframe\">\n",
       "  <thead>\n",
       "    <tr style=\"text-align: right;\">\n",
       "      <th></th>\n",
       "      <th>Pregnancies</th>\n",
       "      <th>Glucose</th>\n",
       "      <th>BloodPressure</th>\n",
       "      <th>SkinThickness</th>\n",
       "      <th>Insulin</th>\n",
       "      <th>BMI</th>\n",
       "      <th>DiabetesPedigreeFunction</th>\n",
       "      <th>Age</th>\n",
       "      <th>Outcome</th>\n",
       "    </tr>\n",
       "  </thead>\n",
       "  <tbody>\n",
       "    <tr>\n",
       "      <th>0</th>\n",
       "      <td>6</td>\n",
       "      <td>148</td>\n",
       "      <td>72</td>\n",
       "      <td>35</td>\n",
       "      <td>0</td>\n",
       "      <td>33.6</td>\n",
       "      <td>0.627</td>\n",
       "      <td>50</td>\n",
       "      <td>1</td>\n",
       "    </tr>\n",
       "    <tr>\n",
       "      <th>1</th>\n",
       "      <td>1</td>\n",
       "      <td>85</td>\n",
       "      <td>66</td>\n",
       "      <td>29</td>\n",
       "      <td>0</td>\n",
       "      <td>26.6</td>\n",
       "      <td>0.351</td>\n",
       "      <td>31</td>\n",
       "      <td>0</td>\n",
       "    </tr>\n",
       "    <tr>\n",
       "      <th>2</th>\n",
       "      <td>8</td>\n",
       "      <td>183</td>\n",
       "      <td>64</td>\n",
       "      <td>0</td>\n",
       "      <td>0</td>\n",
       "      <td>23.3</td>\n",
       "      <td>0.672</td>\n",
       "      <td>32</td>\n",
       "      <td>1</td>\n",
       "    </tr>\n",
       "    <tr>\n",
       "      <th>3</th>\n",
       "      <td>1</td>\n",
       "      <td>89</td>\n",
       "      <td>66</td>\n",
       "      <td>23</td>\n",
       "      <td>94</td>\n",
       "      <td>28.1</td>\n",
       "      <td>0.167</td>\n",
       "      <td>21</td>\n",
       "      <td>0</td>\n",
       "    </tr>\n",
       "    <tr>\n",
       "      <th>4</th>\n",
       "      <td>0</td>\n",
       "      <td>137</td>\n",
       "      <td>40</td>\n",
       "      <td>35</td>\n",
       "      <td>168</td>\n",
       "      <td>43.1</td>\n",
       "      <td>2.288</td>\n",
       "      <td>33</td>\n",
       "      <td>1</td>\n",
       "    </tr>\n",
       "  </tbody>\n",
       "</table>\n",
       "</div>"
      ],
      "text/plain": [
       "   Pregnancies  Glucose  BloodPressure  SkinThickness  Insulin   BMI  \\\n",
       "0            6      148             72             35        0  33.6   \n",
       "1            1       85             66             29        0  26.6   \n",
       "2            8      183             64              0        0  23.3   \n",
       "3            1       89             66             23       94  28.1   \n",
       "4            0      137             40             35      168  43.1   \n",
       "\n",
       "   DiabetesPedigreeFunction  Age  Outcome  \n",
       "0                     0.627   50        1  \n",
       "1                     0.351   31        0  \n",
       "2                     0.672   32        1  \n",
       "3                     0.167   21        0  \n",
       "4                     2.288   33        1  "
      ]
     },
     "execution_count": 4,
     "metadata": {},
     "output_type": "execute_result"
    }
   ],
   "source": [
    "client = MongoClient(\"mongodb://localhost:27017/\")\n",
    "db = client[\"prediksi_diabetes\"]\n",
    "data = pd.DataFrame(list(db[\"data_diabetes\"].find()))\n",
    "\n",
    "# Drop kolom _id jika ada\n",
    "if '_id' in data.columns:\n",
    "    data.drop('_id', axis=1, inplace=True)\n",
    "\n",
    "data.head()"
   ]
  },
  {
   "cell_type": "markdown",
   "id": "949ffcfe",
   "metadata": {},
   "source": [
    "# 1. Analisis Univariate"
   ]
  },
  {
   "cell_type": "markdown",
   "id": "ad6f5f96",
   "metadata": {},
   "source": [
    "Analisis univariat dilakukan untuk memahami distribusi masing-masing variabel secara individu."
   ]
  },
  {
   "cell_type": "code",
   "execution_count": 5,
   "id": "65d676b8",
   "metadata": {},
   "outputs": [
    {
     "ename": "NameError",
     "evalue": "name 'diabetes_dataset' is not defined",
     "output_type": "error",
     "traceback": [
      "\u001b[1;31m---------------------------------------------------------------------------\u001b[0m",
      "\u001b[1;31mNameError\u001b[0m                                 Traceback (most recent call last)",
      "Cell \u001b[1;32mIn[5], line 3\u001b[0m\n\u001b[0;32m      1\u001b[0m \u001b[38;5;66;03m# 1. Visualisasi distribusi fitur numerik\u001b[39;00m\n\u001b[0;32m      2\u001b[0m plt\u001b[38;5;241m.\u001b[39mfigure(figsize\u001b[38;5;241m=\u001b[39m(\u001b[38;5;241m12\u001b[39m, \u001b[38;5;241m8\u001b[39m))\n\u001b[1;32m----> 3\u001b[0m \u001b[43mdiabetes_dataset\u001b[49m\u001b[38;5;241m.\u001b[39mdrop(\u001b[38;5;124m'\u001b[39m\u001b[38;5;124mOutcome\u001b[39m\u001b[38;5;124m'\u001b[39m, axis\u001b[38;5;241m=\u001b[39m\u001b[38;5;241m1\u001b[39m)\u001b[38;5;241m.\u001b[39mhist(bins\u001b[38;5;241m=\u001b[39m\u001b[38;5;241m20\u001b[39m, edgecolor\u001b[38;5;241m=\u001b[39m\u001b[38;5;124m'\u001b[39m\u001b[38;5;124mblack\u001b[39m\u001b[38;5;124m'\u001b[39m, figsize\u001b[38;5;241m=\u001b[39m(\u001b[38;5;241m12\u001b[39m, \u001b[38;5;241m8\u001b[39m))\n\u001b[0;32m      4\u001b[0m plt\u001b[38;5;241m.\u001b[39msuptitle(\u001b[38;5;124m\"\u001b[39m\u001b[38;5;124mDistribusi Fitur-fitur Dataset Pima Indians\u001b[39m\u001b[38;5;124m\"\u001b[39m, fontsize\u001b[38;5;241m=\u001b[39m\u001b[38;5;241m16\u001b[39m)\n\u001b[0;32m      5\u001b[0m plt\u001b[38;5;241m.\u001b[39mshow()\n",
      "\u001b[1;31mNameError\u001b[0m: name 'diabetes_dataset' is not defined"
     ]
    },
    {
     "data": {
      "text/plain": [
       "<Figure size 1200x800 with 0 Axes>"
      ]
     },
     "metadata": {},
     "output_type": "display_data"
    }
   ],
   "source": [
    "# 1. Visualisasi distribusi fitur numerik\n",
    "plt.figure(figsize=(12, 8))\n",
    "diabetes_dataset.drop('Outcome', axis=1).hist(bins=20, edgecolor='black', figsize=(12, 8))\n",
    "plt.suptitle(\"Distribusi Fitur-fitur Dataset Pima Indians\", fontsize=16)\n",
    "plt.show()"
   ]
  },
  {
   "cell_type": "code",
   "execution_count": null,
   "id": "d8ddd3a4",
   "metadata": {},
   "outputs": [],
   "source": [
    "# 3. Boxplot untuk visualisasi pencilan\n",
    "plt.figure(figsize=(12, 8))\n",
    "for i, feature in enumerate(diabetes_dataset.drop('Outcome', axis=1).columns):\n",
    "    plt.subplot(3, 3, i+1)\n",
    "    sns.boxplot(x='Outcome', y=feature, data=diabetes_dataset)\n",
    "    plt.title(f'Boxplot {feature} vs Outcome')\n",
    "plt.tight_layout()\n",
    "plt.show()"
   ]
  },
  {
   "cell_type": "code",
   "execution_count": null,
   "id": "5b9757ed",
   "metadata": {},
   "outputs": [],
   "source": [
    "# Distribusi Variabel Target (Outcome)\n",
    "plt.figure(figsize=(10,6))\n",
    "a = sns.countplot(x='Outcome', data=data, palette='Set2')\n",
    "for j in a.containers:\n",
    "    a.bar_label(j, label_type='edge')\n",
    "plt.title('Jumlah pasien diabetes', fontsize=20)\n",
    "plt.xlabel('Outcome', fontsize=15)\n",
    "plt.ylabel('Jumlah', fontsize=15)\n",
    "plt.show()"
   ]
  },
  {
   "cell_type": "markdown",
   "id": "73ec744a",
   "metadata": {},
   "source": [
    "Data yang disajikan menggambarkan bahwa terdapat 268 orang yang mengalami diabetes, sedangkan sebanyak 500 orang tidak mengalami kondisi diabetes."
   ]
  },
  {
   "cell_type": "markdown",
   "id": "b9d0d4e5",
   "metadata": {},
   "source": [
    "# 2. Analisis Bivariate"
   ]
  },
  {
   "cell_type": "markdown",
   "id": "a6b3a993",
   "metadata": {},
   "source": [
    "Analisis bivariat dilakukan untuk melihat hubungan dua variabel, misalnya antara Outcome dan variabel lain."
   ]
  },
  {
   "cell_type": "markdown",
   "id": "0d9d6e58",
   "metadata": {},
   "source": [
    "Jumlah pasien perkelompok kehamilan yang paling banyak terkena diabets adalah 0 kehamilan dengan jumlah 38 orang lalu diikuti dengan 3 kehamilan dengan jumlah 27 orang dan yang paling sedikit adalah 17 kehamilan dengan jumlah 1 orang."
   ]
  },
  {
   "cell_type": "markdown",
   "id": "a7dfe915",
   "metadata": {},
   "source": [
    "# 3. Analisis Multivariate"
   ]
  },
  {
   "cell_type": "markdown",
   "id": "fefe48b4",
   "metadata": {},
   "source": [
    "Analisis multivariat melihat hubungan lebih dari dua variabel."
   ]
  },
  {
   "cell_type": "code",
   "execution_count": null,
   "id": "98fd62bb",
   "metadata": {},
   "outputs": [],
   "source": [
    "# Menambahkan kolom kelompok umur\n",
    "age_grup = []\n",
    "for i in data['Age']:\n",
    "    if i >= 17 and i <= 25:\n",
    "        age_grup.append('Remaja Akhir')\n",
    "    elif i >= 26 and i <= 35:\n",
    "        age_grup.append('Dewasa Awal')\n",
    "    elif i >= 36 and i <= 45:\n",
    "        age_grup.append('Dewasa Akhir')\n",
    "    elif i >= 46 and i <= 55:\n",
    "        age_grup.append('Lansia Awal')\n",
    "    elif i >= 56 and i <= 65:\n",
    "        age_grup.append('Lansia Akhir')\n",
    "    else:\n",
    "        age_grup.append('Manula')\n",
    "data['Age_grup'] = age_grup"
   ]
  },
  {
   "cell_type": "code",
   "execution_count": null,
   "id": "0823c465",
   "metadata": {},
   "outputs": [],
   "source": [
    "plt.figure(figsize=(10,6))\n",
    "a = sns.countplot(x='Outcome', hue='Age_grup', data=data, palette='Set1')\n",
    "for j in a.containers:\n",
    "    a.bar_label(j, label_type='edge')\n",
    "plt.title('Jumlah pasien per kelompok umur', fontsize=20)\n",
    "plt.xlabel('Outcome', fontsize=15)\n",
    "plt.ylabel('Jumlah', fontsize=15) \n",
    "plt.legend(loc='upper right', title='Kelompok Umur')  \n",
    "plt.show() "
   ]
  },
  {
   "cell_type": "code",
   "execution_count": null,
   "id": "e5bcc430",
   "metadata": {},
   "outputs": [],
   "source": [
    "data[['Outcome', 'Age_grup']].value_counts()"
   ]
  },
  {
   "cell_type": "markdown",
   "id": "9af0f4b0",
   "metadata": {},
   "source": [
    "Banyak pasien yang terkena diabetes adalah yang berumur 26-35 tahun atau dewasa awal dengan jumlah 86 orang lalu diikutu dengan dewasa akhir yaitu 46-55 tahun dengan jumlah 79 orang dan yang paling sedikit adalah manula dengan jumlah 4 orang."
   ]
  },
  {
   "cell_type": "code",
   "execution_count": null,
   "id": "cd5653d4",
   "metadata": {},
   "outputs": [],
   "source": [
    "BMI_grup = []\n",
    "for i in data['BMI']:\n",
    "    if i >= 0 and i <= 18.5:\n",
    "        BMI_grup.append('Kurus')\n",
    "    elif i >= 18.6 and i <= 22.9:\n",
    "        BMI_grup.append('Normal')\n",
    "    elif i >= 23 and i <= 24.9:\n",
    "        BMI_grup.append('Gemuk')\n",
    "    elif i >= 25 and i <= 29.9:\n",
    "        BMI_grup.append('Obesitas')\n",
    "    else:\n",
    "        BMI_grup.append('Obesitas II')            "
   ]
  },
  {
   "cell_type": "code",
   "execution_count": null,
   "id": "6793ca21",
   "metadata": {},
   "outputs": [],
   "source": [
    "data['BMI_grup'] = BMI_grup\n",
    "data"
   ]
  },
  {
   "cell_type": "code",
   "execution_count": null,
   "id": "c01a5b61",
   "metadata": {},
   "outputs": [],
   "source": [
    "plt.figure(figsize=(10,6))\n",
    "a = sns.countplot(x='Outcome', hue='BMI_grup', data=data, palette='Set1')\n",
    "for j in a.containers:\n",
    "    a.bar_label(j, label_type='edge')\n",
    "plt.title('Jumlah pasien per kelompok kadar gula darah', fontsize=20)\n",
    "plt.xlabel('Outcome', fontsize=15)\n",
    "plt.ylabel('Jumlah', fontsize=15)\n",
    "plt.legend(loc='upper right', title='Kelompok Kadar Gula Darah')\n",
    "plt.show()    "
   ]
  },
  {
   "cell_type": "code",
   "execution_count": null,
   "id": "b354b1db",
   "metadata": {},
   "outputs": [],
   "source": [
    "data[['Outcome', 'BMI_grup']].value_counts()"
   ]
  },
  {
   "cell_type": "markdown",
   "id": "5540ef95",
   "metadata": {},
   "source": [
    "Berdasarkan kelompok BMI yang paling banyak terkena diabetes adalah yang memiliki BMI lebih dari 30 (Obesitasa II) dengan jumlah 219 orang lalu diikuti dengan BMI 25 - 29.9 (Obesitas) dengan jumlah 40 orang."
   ]
  },
  {
   "cell_type": "code",
   "execution_count": null,
   "id": "7679079b",
   "metadata": {},
   "outputs": [],
   "source": [
    "data = data.drop(columns=['Age_grup', 'BMI_grup'])\n",
    "print(data.columns)"
   ]
  },
  {
   "cell_type": "code",
   "execution_count": null,
   "id": "d22dd715",
   "metadata": {},
   "outputs": [],
   "source": [
    "print(data.columns)\n",
    "print(data.isnull().sum())\n",
    "data = data.drop_duplicates()"
   ]
  },
  {
   "cell_type": "code",
   "execution_count": null,
   "id": "52caef4c",
   "metadata": {},
   "outputs": [],
   "source": [
    "corr = data.corr()\n",
    "\n",
    "plt.figure(figsize=(10, 8)) \n",
    "sns.heatmap(corr, annot=True, cmap='coolwarm')\n",
    "plt.title(\"Heatmap Korelasi Fitur\")\n",
    "plt.show()"
   ]
  }
 ],
 "metadata": {
  "kernelspec": {
   "display_name": "Python 3",
   "language": "python",
   "name": "python3"
  },
  "language_info": {
   "codemirror_mode": {
    "name": "ipython",
    "version": 3
   },
   "file_extension": ".py",
   "mimetype": "text/x-python",
   "name": "python",
   "nbconvert_exporter": "python",
   "pygments_lexer": "ipython3",
   "version": "3.13.1"
  }
 },
 "nbformat": 4,
 "nbformat_minor": 5
}
